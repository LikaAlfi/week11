{
  "nbformat": 4,
  "nbformat_minor": 0,
  "metadata": {
    "colab": {
      "provenance": [],
      "authorship_tag": "ABX9TyMVgNQNimTLl0bGqpfP499s",
      "include_colab_link": true
    },
    "kernelspec": {
      "name": "python3",
      "display_name": "Python 3"
    },
    "language_info": {
      "name": "python"
    }
  },
  "cells": [
    {
      "cell_type": "markdown",
      "metadata": {
        "id": "view-in-github",
        "colab_type": "text"
      },
      "source": [
        "<a href=\"https://colab.research.google.com/github/LikaAlfi/week11/blob/main/matematika1.ipynb\" target=\"_parent\"><img src=\"https://colab.research.google.com/assets/colab-badge.svg\" alt=\"Open In Colab\"/></a>"
      ]
    },
    {
      "cell_type": "code",
      "execution_count": 3,
      "metadata": {
        "id": "IP_zpRsnPdaR"
      },
      "outputs": [],
      "source": [
        "PI = 3.14\n",
        "\n",
        "def luas_lingkaran(jari_jari):\n",
        "    luas_lingkaran = PI * jari_jari * jari_jari\n",
        "    return luas_lingkaran\n",
        "\n",
        "def luas_persegi(sisi):\n",
        "    luas_persegi = sisi * sisi\n",
        "    return luas_persegi"
      ]
    }
  ]
}