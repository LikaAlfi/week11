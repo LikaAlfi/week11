{
  "nbformat": 4,
  "nbformat_minor": 0,
  "metadata": {
    "colab": {
      "provenance": [],
      "authorship_tag": "ABX9TyOAi7AJPMTJGMw4xtmwbHZb",
      "include_colab_link": true
    },
    "kernelspec": {
      "name": "python3",
      "display_name": "Python 3"
    },
    "language_info": {
      "name": "python"
    }
  },
  "cells": [
    {
      "cell_type": "markdown",
      "metadata": {
        "id": "view-in-github",
        "colab_type": "text"
      },
      "source": [
        "<a href=\"https://colab.research.google.com/github/LikaAlfi/week11/blob/main/mymodule2.ipynb\" target=\"_parent\"><img src=\"https://colab.research.google.com/assets/colab-badge.svg\" alt=\"Open In Colab\"/></a>"
      ]
    },
    {
      "cell_type": "code",
      "execution_count": null,
      "metadata": {
        "id": "cYQOFSHgKd2k"
      },
      "outputs": [],
      "source": [
        "person1 = {\n",
        "    \"name\"    : \"Brian\",\n",
        "    \"age\"     : \"36\",\n",
        "    \"country\" : \"Indonesia\"\n",
        "}"
      ]
    }
  ]
}