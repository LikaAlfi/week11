{
  "nbformat": 4,
  "nbformat_minor": 0,
  "metadata": {
    "colab": {
      "provenance": [],
      "authorship_tag": "ABX9TyOrDDur17YH8VB9VXIpR6P4",
      "include_colab_link": true
    },
    "kernelspec": {
      "name": "python3",
      "display_name": "Python 3"
    },
    "language_info": {
      "name": "python"
    }
  },
  "cells": [
    {
      "cell_type": "markdown",
      "metadata": {
        "id": "view-in-github",
        "colab_type": "text"
      },
      "source": [
        "<a href=\"https://colab.research.google.com/github/LikaAlfi/week11/blob/main/week11.ipynb\" target=\"_parent\"><img src=\"https://colab.research.google.com/assets/colab-badge.svg\" alt=\"Open In Colab\"/></a>"
      ]
    },
    {
      "cell_type": "code",
      "execution_count": null,
      "metadata": {
        "id": "9GcC9mEZ6Ej7"
      },
      "outputs": [],
      "source": [
        "import sys\n",
        "sys.path.append('/content')"
      ]
    },
    {
      "cell_type": "code",
      "source": [
        "import mymodule1\n",
        "\n",
        "mymodule1.greeting(\"lika\")"
      ],
      "metadata": {
        "colab": {
          "base_uri": "https://localhost:8080/"
        },
        "id": "ZDSBVET18U5Q",
        "outputId": "9b1941ff-a0b6-4a99-f425-3adf294ce5ac"
      },
      "execution_count": null,
      "outputs": [
        {
          "output_type": "stream",
          "name": "stdout",
          "text": [
            "Hello, lika\n"
          ]
        }
      ]
    },
    {
      "cell_type": "code",
      "source": [
        "#Import the module named mymodule, and access the person1 dictionary:\n",
        "\n",
        "import mymodule2\n",
        "\n",
        "a = mymodule2.person1[\"age\"]\n",
        "print(a)"
      ],
      "metadata": {
        "colab": {
          "base_uri": "https://localhost:8080/"
        },
        "id": "Wgy-nBja9YtL",
        "outputId": "af67840e-6392-4f4f-ac37-c9569efc0f21"
      },
      "execution_count": null,
      "outputs": [
        {
          "output_type": "stream",
          "name": "stdout",
          "text": [
            "36\n"
          ]
        }
      ]
    },
    {
      "cell_type": "code",
      "source": [
        "#Create an alias for mymodule called mx:\n",
        "\n",
        "import mymodule2 as mx\n",
        "\n",
        "a = mx.person1[\"age\"]\n",
        "print(a)"
      ],
      "metadata": {
        "colab": {
          "base_uri": "https://localhost:8080/"
        },
        "id": "l8Y9hKcH99dj",
        "outputId": "f7c89b67-5fea-40ea-8cae-b4b4a672a1bb"
      },
      "execution_count": null,
      "outputs": [
        {
          "output_type": "stream",
          "name": "stdout",
          "text": [
            "36\n"
          ]
        }
      ]
    },
    {
      "cell_type": "code",
      "source": [
        "#Import and use the platform module:\n",
        "\n",
        "import platform\n",
        "\n",
        "x = platform.system()\n",
        "print(x)"
      ],
      "metadata": {
        "colab": {
          "base_uri": "https://localhost:8080/"
        },
        "id": "bnR4PDAo-XBd",
        "outputId": "0e0d567d-0012-44ea-e339-4df989b7cfef"
      },
      "execution_count": null,
      "outputs": [
        {
          "output_type": "stream",
          "name": "stdout",
          "text": [
            "Linux\n"
          ]
        }
      ]
    },
    {
      "cell_type": "code",
      "source": [
        "#List all the defined names belonging to the platform module:\n",
        "\n",
        "import platform\n",
        "\n",
        "x = dir(platform)\n",
        "print(x)"
      ],
      "metadata": {
        "colab": {
          "base_uri": "https://localhost:8080/"
        },
        "id": "V47GeYZHB4Hl",
        "outputId": "456fa4b2-e2f3-4484-964e-82cac8eb5c70"
      },
      "execution_count": null,
      "outputs": [
        {
          "output_type": "stream",
          "name": "stdout",
          "text": [
            "['_Processor', '_WIN32_CLIENT_RELEASES', '_WIN32_SERVER_RELEASES', '__builtins__', '__cached__', '__copyright__', '__doc__', '__file__', '__loader__', '__name__', '__package__', '__spec__', '__version__', '_comparable_version', '_component_re', '_default_architecture', '_follow_symlinks', '_get_machine_win32', '_ironpython26_sys_version_parser', '_ironpython_sys_version_parser', '_java_getprop', '_libc_search', '_mac_ver_xml', '_node', '_norm_version', '_os_release_cache', '_os_release_candidates', '_os_release_line', '_os_release_unescape', '_parse_os_release', '_platform', '_platform_cache', '_pypy_sys_version_parser', '_sys_version', '_sys_version_cache', '_sys_version_parser', '_syscmd_file', '_syscmd_ver', '_uname_cache', '_unknown_as_blank', '_ver_output', '_ver_stages', 'architecture', 'collections', 'freedesktop_os_release', 'functools', 'itertools', 'java_ver', 'libc_ver', 'mac_ver', 'machine', 'node', 'os', 'platform', 'processor', 'python_branch', 'python_build', 'python_compiler', 'python_implementation', 'python_revision', 'python_version', 'python_version_tuple', 're', 'release', 'subprocess', 'sys', 'system', 'system_alias', 'uname', 'uname_result', 'version', 'win32_edition', 'win32_is_iot', 'win32_ver']\n"
          ]
        }
      ]
    },
    {
      "cell_type": "code",
      "source": [
        "from mymodule3 import person1\n",
        "\n",
        "print (person1[\"age\"])"
      ],
      "metadata": {
        "colab": {
          "base_uri": "https://localhost:8080/"
        },
        "id": "SWj2VzMWJlLt",
        "outputId": "971236b7-4b76-4e94-d273-c0e04b66d64c"
      },
      "execution_count": null,
      "outputs": [
        {
          "output_type": "stream",
          "name": "stdout",
          "text": [
            "36\n"
          ]
        }
      ]
    },
    {
      "cell_type": "code",
      "source": [
        "#weekly exercise 1\n",
        "\n",
        "import matematika1"
      ],
      "metadata": {
        "id": "8WPKzxb1DpQX"
      },
      "execution_count": null,
      "outputs": []
    },
    {
      "cell_type": "code",
      "source": [
        "from matematika1 import luas_persegi\n",
        "\n",
        "luas_persegi = luas_persegi(sisi = 5)\n",
        "print(luas_persegi)"
      ],
      "metadata": {
        "colab": {
          "base_uri": "https://localhost:8080/"
        },
        "id": "PEtpeoVdCFmo",
        "outputId": "b27f726c-c96e-49ba-bea3-3e5598c66aca"
      },
      "execution_count": null,
      "outputs": [
        {
          "output_type": "stream",
          "name": "stdout",
          "text": [
            "25\n"
          ]
        }
      ]
    },
    {
      "cell_type": "code",
      "source": [
        "from matematika1 import luas_lingkaran\n",
        "\n",
        "luas_lingkaran = luas_lingkaran(jari_jari = 6)\n",
        "print(luas_lingkaran)"
      ],
      "metadata": {
        "colab": {
          "base_uri": "https://localhost:8080/"
        },
        "id": "hivS2S6rGAc0",
        "outputId": "4843dc06-91d9-4be7-8852-acb7d9fa7f1f"
      },
      "execution_count": 27,
      "outputs": [
        {
          "output_type": "stream",
          "name": "stdout",
          "text": [
            "113.03999999999999\n"
          ]
        }
      ]
    },
    {
      "cell_type": "code",
      "source": [
        "#weekly exercise 2\n",
        "#built-in module math di python\n",
        "\n",
        "#1.cos(x)\n",
        "\n",
        "import math\n",
        "\n",
        "x = int(input(\"masukkan x : \"))\n",
        "print(f\"hasil dari cos{x} adalah {math.cos(x)}\")"
      ],
      "metadata": {
        "id": "3nbAu83BOfQQ",
        "colab": {
          "base_uri": "https://localhost:8080/"
        },
        "outputId": "76d8d8cd-47ed-4787-e7f4-bc89c4e79786"
      },
      "execution_count": 31,
      "outputs": [
        {
          "output_type": "stream",
          "name": "stdout",
          "text": [
            "masukkan x : 3\n",
            "hasil dari cos3 adalah -0.9899924966004454\n"
          ]
        }
      ]
    },
    {
      "cell_type": "code",
      "source": [
        "#2.fmod(x, y)\n",
        "\n",
        "import math\n",
        "\n",
        "x = int(input(\"masukkan x : \"))\n",
        "y = int(input(\"masukkan y : \"))\n",
        "print(f\"hasil dari sisa pembagian dari {(x, y)} adalah {math.fmod(x, y)}\")"
      ],
      "metadata": {
        "colab": {
          "base_uri": "https://localhost:8080/"
        },
        "id": "mrW69WXRZAIo",
        "outputId": "c8356bf3-320c-4f18-c543-cd76a9eaf866"
      },
      "execution_count": 85,
      "outputs": [
        {
          "output_type": "stream",
          "name": "stdout",
          "text": [
            "masukkan x : 200\n",
            "masukkan y : 7\n",
            "hasil dari sisa pembagian dari (200, 7) adalah 4.0\n"
          ]
        }
      ]
    },
    {
      "cell_type": "code",
      "source": [
        "#3.fabs(m)\n",
        "\n",
        "import math\n",
        "\n",
        "m = int(input(\"masukkan m : \"))\n",
        "print(f\"hasil dari nilai mutlak {(m)} adalah {math.fabs(m)}\")"
      ],
      "metadata": {
        "colab": {
          "base_uri": "https://localhost:8080/"
        },
        "id": "1rbXXYLdhNna",
        "outputId": "609e41f2-1bcf-484a-9183-e7586ea12e73"
      },
      "execution_count": 81,
      "outputs": [
        {
          "output_type": "stream",
          "name": "stdout",
          "text": [
            "masukkan m : -66\n",
            "hasil dari nilai mutlak -66 adalah 66.0\n"
          ]
        }
      ]
    },
    {
      "cell_type": "code",
      "source": [
        "#4.pow(p, q)\n",
        "\n",
        "import math\n",
        "\n",
        "p = int(input(\"masukkan p : \"))\n",
        "q = int(input(\"masukkan q : \"))\n",
        "print(f\"hasil dari {p} pangkat {q} adalah {math.pow(p, q)}\")"
      ],
      "metadata": {
        "colab": {
          "base_uri": "https://localhost:8080/"
        },
        "id": "NQgKaDDJkLWf",
        "outputId": "14aa2d66-d24f-46f6-b1a2-89e7fac26abf"
      },
      "execution_count": 82,
      "outputs": [
        {
          "output_type": "stream",
          "name": "stdout",
          "text": [
            "masukkan p : 21\n",
            "masukkan q : 7\n",
            "hasil dari 21 pangkat 7 adalah 1801088541.0\n"
          ]
        }
      ]
    },
    {
      "cell_type": "code",
      "source": [
        "#5.sqrt(s)\n",
        "\n",
        "import math\n",
        "\n",
        "s = int(input(\"masukkan s : \"))\n",
        "print(f\"hasil dari akar dari {s} adalah {math.sqrt(s)}\")"
      ],
      "metadata": {
        "colab": {
          "base_uri": "https://localhost:8080/"
        },
        "id": "0CagKX0FlZMm",
        "outputId": "388688a2-2146-473e-9a5c-21975094e6bc"
      },
      "execution_count": 80,
      "outputs": [
        {
          "output_type": "stream",
          "name": "stdout",
          "text": [
            "masukkan s : 679\n",
            "hasil dari akar dari 679 adalah 26.057628441590765\n"
          ]
        }
      ]
    }
  ]
}